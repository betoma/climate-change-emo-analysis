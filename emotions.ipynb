{
 "cells": [
  {
   "cell_type": "markdown",
   "metadata": {},
   "source": [
    "# Lexical Emotion Classification of Different Climate Change Tweets"
   ]
  },
  {
   "cell_type": "code",
   "execution_count": 1,
   "metadata": {},
   "outputs": [],
   "source": [
    "from emonal import Emo"
   ]
  },
  {
   "cell_type": "code",
   "execution_count": 2,
   "metadata": {},
   "outputs": [],
   "source": [
    "lexipaths = {\n",
    "    \"VAD\": \"NRC-VAD-Lexicon/NRC-VAD-Lexicon.txt\",\n",
    "    \"emotion\": \"NRC-Emotion-Lexicon-v0.92/NRC-Emotion-Lexicon-Wordlevel-v0.92.txt\",\n",
    "    \"affect intensity\": \"NRC-Affect-Intensity-Lexicon/NRC-AffectIntensity-Lexicon.txt\"\n",
    "}\n",
    "big_folder = \"NRC-Sentiment-Emotion-Lexicons\""
   ]
  },
  {
   "cell_type": "code",
   "execution_count": 3,
   "metadata": {},
   "outputs": [
    {
     "output_type": "stream",
     "name": "stdout",
     "text": "954\n337\n708\n"
    }
   ],
   "source": [
    "with open(\"../data/tweets.txt\",\"r\",encoding=\"utf-8\") as f:\n",
    "    content = f.readlines()\n",
    "with open(\"../data/labels.csv\",\"r\",encoding=\"utf-8\") as f:\n",
    "    labels = f.readlines()\n",
    "pro = []\n",
    "anti = []\n",
    "unk = []\n",
    "for i, c in enumerate(content):\n",
    "    if labels[i].strip() == \"1\":\n",
    "        pro.append(c)\n",
    "    elif labels[i].strip() == \"2\":\n",
    "        anti.append(c)\n",
    "    elif labels[i].strip() == \"3\":\n",
    "        unk.append(c)\n",
    "print(len(pro))\n",
    "print(len(anti))\n",
    "print(len(unk))"
   ]
  },
  {
   "cell_type": "code",
   "execution_count": 4,
   "metadata": {},
   "outputs": [],
   "source": [
    "emojudge = Emo(lexipaths,big_folder)"
   ]
  },
  {
   "cell_type": "code",
   "execution_count": 5,
   "metadata": {},
   "outputs": [],
   "source": [
    "pro_vals = emojudge.classify(pro,\"all\")\n",
    "anti_vals = emojudge.classify(anti,\"all\")\n",
    "unk_vals = emojudge.classify(unk,\"all\")"
   ]
  },
  {
   "cell_type": "code",
   "execution_count": 7,
   "metadata": {},
   "outputs": [
    {
     "output_type": "stream",
     "name": "stdout",
     "text": "{'emotion': {'anger': 0.060719526732252144, 'anticipation': 0.06114657405749672, 'disgust': 0.04354069401789447, 'fear': 0.21411826950002988, 'joy': 0.04040893712155644, 'sadness': 0.057511794203204625, 'surprise': 0.03560950361056405, 'trust': 0.08743184763863458}, 'VAD': {'Valence': 0.5888856775894532, 'Arousal': 0.46384266156816295, 'Dominance': 0.552004782024265}, 'affect intensity': {'anger': 0.07847109722222224, 'fear': 0.19764638194444406, 'joy': 0.08425005555555558, 'sadness': 0.08212337499999998}}\n{'emotion': {'anger': 0.08706941483060882, 'anticipation': 0.04215847171071049, 'disgust': 0.06921937929400612, 'fear': 0.21545153022764968, 'joy': 0.028615257048092868, 'sadness': 0.05437218668561949, 'surprise': 0.043797678275290214, 'trust': 0.07008054963278842}, 'VAD': {'Valence': 0.5707350169068081, 'Arousal': 0.4749765269970494, 'Dominance': 0.5477089017036034}, 'affect intensity': {'anger': 0.10759880095923256, 'fear': 0.1871582134292566, 'joy': 0.07092074340527578, 'sadness': 0.07524118705035968}}\n{'emotion': {'anger': 0.053774943310657596, 'anticipation': 0.056664224664224654, 'disgust': 0.034437074829931955, 'fear': 0.20508446712018127, 'joy': 0.04176569858712712, 'sadness': 0.045071428571428526, 'surprise': 0.03263038548752833, 'trust': 0.0690351473922903}, 'VAD': {'Valence': 0.59253149880746, 'Arousal': 0.4747354454899324, 'Dominance': 0.5570678489680633}, 'affect intensity': {'anger': 0.07750632387706854, 'fear': 0.19075815602836818, 'joy': 0.09327089243498819, 'sadness': 0.0712028073286052}}\n"
    }
   ],
   "source": [
    "print(pro_vals)\n",
    "print(anti_vals)\n",
    "print(unk_vals)"
   ]
  },
  {
   "cell_type": "code",
   "execution_count": 6,
   "metadata": {},
   "outputs": [
    {
     "output_type": "stream",
     "name": "stdout",
     "text": "emotion/anger/pro-anti: 0.026349888098356672 (0.060719526732252144 vs 0.08706941483060882)\nemotion/anger/anti-unk: 0.03329447151995122 (0.08706941483060882 vs 0.053774943310657596)\nemotion/disgust/pro-anti: 0.025678685276111654 (0.04354069401789447 vs 0.06921937929400612)\nemotion/disgust/anti-unk: 0.03478230446407417 (0.06921937929400612 vs 0.034437074829931955)\nVAD/Valence/anti-unk: 0.021796481900651976 (0.5707350169068081 vs 0.59253149880746)\naffect intensity/anger/pro-anti: 0.02912770373701032 (0.07847109722222224 vs 0.10759880095923256)\naffect intensity/anger/anti-unk: 0.030092477082164018 (0.10759880095923256 vs 0.07750632387706854)\naffect intensity/joy/anti-unk: 0.022350149029712413 (0.07092074340527578 vs 0.09327089243498819)\n"
    }
   ],
   "source": [
    "for k in pro_vals:\n",
    "    for m in pro_vals[k]:\n",
    "        if (diff := abs(pro_vals[k][m] - anti_vals[k][m])) > 0.02:\n",
    "            print(f\"{k}/{m}/pro-anti: {diff} ({pro_vals[k][m]} vs {anti_vals[k][m]})\")\n",
    "        if (diff := abs(pro_vals[k][m] - unk_vals[k][m])) > 0.02:\n",
    "            print(f\"{k}/{m}/pro-unk: {diff} ({pro_vals[k][m]} vs {unk_vals[k][m]})\")\n",
    "        if (diff := abs(anti_vals[k][m] - unk_vals[k][m])) > 0.02:\n",
    "            print(f\"{k}/{m}/anti-unk: {diff} ({anti_vals[k][m]} vs {unk_vals[k][m]})\")"
   ]
  }
 ],
 "metadata": {
  "language_info": {
   "codemirror_mode": {
    "name": "ipython",
    "version": 3
   },
   "file_extension": ".py",
   "mimetype": "text/x-python",
   "name": "python",
   "nbconvert_exporter": "python",
   "pygments_lexer": "ipython3",
   "version": "3.8.2-final"
  },
  "orig_nbformat": 2,
  "kernelspec": {
   "name": "bertfine",
   "display_name": "Python 3 (bertfine virtual environment)"
  }
 },
 "nbformat": 4,
 "nbformat_minor": 2
}