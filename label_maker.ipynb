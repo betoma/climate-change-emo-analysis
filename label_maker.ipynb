{
 "nbformat": 4,
 "nbformat_minor": 2,
 "metadata": {
  "language_info": {
   "name": "python",
   "codemirror_mode": {
    "name": "ipython",
    "version": 3
   },
   "version": "3.8.2-final"
  },
  "orig_nbformat": 2,
  "file_extension": ".py",
  "mimetype": "text/x-python",
  "name": "python",
  "npconvert_exporter": "python",
  "pygments_lexer": "ipython3",
  "version": 3,
  "kernelspec": {
   "name": "bertfine",
   "display_name": "bertfine"
  }
 },
 "cells": [
  {
   "cell_type": "code",
   "execution_count": 1,
   "metadata": {},
   "outputs": [],
   "source": [
    "from collections import Counter\n",
    "\n",
    "import pandas as pd"
   ]
  },
  {
   "cell_type": "code",
   "execution_count": 2,
   "metadata": {},
   "outputs": [],
   "source": [
    "df = pd.read_csv(\"./data_cctweet1234.csv\",sep='\\t',encoding=\"utf-8\")"
   ]
  },
  {
   "cell_type": "code",
   "execution_count": 3,
   "metadata": {},
   "outputs": [
    {
     "output_type": "execute_result",
     "data": {
      "text/plain": "   CASE  SERIAL                       REF QUESTNNR       MODE  \\\n0    21     NaN  5d16ab9b59da87001ac41a61     base  interview   \n1    23     NaN  5d566fa918f22f000148d118     base  interview   \n2    24     NaN  5d553f1552d7670001906048     base  interview   \n3    25     NaN  5d46a0b7c46fcd001a238642     base  interview   \n4    26     NaN  5dd9bd7bf85b50953fdf003c     base  interview   \n\n               STARTED                   I001_01  I002_CP  I002  I003_CP  ...  \\\n0  2020-03-26 15:10:21  5d16ab9b59da87001ac41a61        0     9        0  ...   \n1  2020-03-26 15:11:03  5d566fa918f22f000148d118        0    18        0  ...   \n2  2020-03-26 15:11:03  5d553f1552d7670001906048        0    17        0  ...   \n3  2020-03-26 15:11:15  5d46a0b7c46fcd001a238642        0     3        0  ...   \n4  2020-03-26 15:11:29  5dd9bd7bf85b50953fdf003c        0     8        0  ...   \n\n   Q004  Q005  FINISHED  Q_VIEWER  LASTPAGE  MAXPAGE  MISSING  MISSREL  \\\n0     3     3         1         0        13       13        0        0   \n1     3     3         1         0        13       13        0        0   \n2     2     3         1         0        13       13        0        0   \n3     3     3         1         0        13       13        0        0   \n4     2     3         1         0        13       13        0        0   \n\n   TIME_RSI  DEG_TIME  \n0      1.01         5  \n1      1.42        53  \n2      1.27        29  \n3      0.78         3  \n4      0.92         7  \n\n[5 rows x 2041 columns]",
      "text/html": "<div>\n<style scoped>\n    .dataframe tbody tr th:only-of-type {\n        vertical-align: middle;\n    }\n\n    .dataframe tbody tr th {\n        vertical-align: top;\n    }\n\n    .dataframe thead th {\n        text-align: right;\n    }\n</style>\n<table border=\"1\" class=\"dataframe\">\n  <thead>\n    <tr style=\"text-align: right;\">\n      <th></th>\n      <th>CASE</th>\n      <th>SERIAL</th>\n      <th>REF</th>\n      <th>QUESTNNR</th>\n      <th>MODE</th>\n      <th>STARTED</th>\n      <th>I001_01</th>\n      <th>I002_CP</th>\n      <th>I002</th>\n      <th>I003_CP</th>\n      <th>...</th>\n      <th>Q004</th>\n      <th>Q005</th>\n      <th>FINISHED</th>\n      <th>Q_VIEWER</th>\n      <th>LASTPAGE</th>\n      <th>MAXPAGE</th>\n      <th>MISSING</th>\n      <th>MISSREL</th>\n      <th>TIME_RSI</th>\n      <th>DEG_TIME</th>\n    </tr>\n  </thead>\n  <tbody>\n    <tr>\n      <th>0</th>\n      <td>21</td>\n      <td>NaN</td>\n      <td>5d16ab9b59da87001ac41a61</td>\n      <td>base</td>\n      <td>interview</td>\n      <td>2020-03-26 15:10:21</td>\n      <td>5d16ab9b59da87001ac41a61</td>\n      <td>0</td>\n      <td>9</td>\n      <td>0</td>\n      <td>...</td>\n      <td>3</td>\n      <td>3</td>\n      <td>1</td>\n      <td>0</td>\n      <td>13</td>\n      <td>13</td>\n      <td>0</td>\n      <td>0</td>\n      <td>1.01</td>\n      <td>5</td>\n    </tr>\n    <tr>\n      <th>1</th>\n      <td>23</td>\n      <td>NaN</td>\n      <td>5d566fa918f22f000148d118</td>\n      <td>base</td>\n      <td>interview</td>\n      <td>2020-03-26 15:11:03</td>\n      <td>5d566fa918f22f000148d118</td>\n      <td>0</td>\n      <td>18</td>\n      <td>0</td>\n      <td>...</td>\n      <td>3</td>\n      <td>3</td>\n      <td>1</td>\n      <td>0</td>\n      <td>13</td>\n      <td>13</td>\n      <td>0</td>\n      <td>0</td>\n      <td>1.42</td>\n      <td>53</td>\n    </tr>\n    <tr>\n      <th>2</th>\n      <td>24</td>\n      <td>NaN</td>\n      <td>5d553f1552d7670001906048</td>\n      <td>base</td>\n      <td>interview</td>\n      <td>2020-03-26 15:11:03</td>\n      <td>5d553f1552d7670001906048</td>\n      <td>0</td>\n      <td>17</td>\n      <td>0</td>\n      <td>...</td>\n      <td>2</td>\n      <td>3</td>\n      <td>1</td>\n      <td>0</td>\n      <td>13</td>\n      <td>13</td>\n      <td>0</td>\n      <td>0</td>\n      <td>1.27</td>\n      <td>29</td>\n    </tr>\n    <tr>\n      <th>3</th>\n      <td>25</td>\n      <td>NaN</td>\n      <td>5d46a0b7c46fcd001a238642</td>\n      <td>base</td>\n      <td>interview</td>\n      <td>2020-03-26 15:11:15</td>\n      <td>5d46a0b7c46fcd001a238642</td>\n      <td>0</td>\n      <td>3</td>\n      <td>0</td>\n      <td>...</td>\n      <td>3</td>\n      <td>3</td>\n      <td>1</td>\n      <td>0</td>\n      <td>13</td>\n      <td>13</td>\n      <td>0</td>\n      <td>0</td>\n      <td>0.78</td>\n      <td>3</td>\n    </tr>\n    <tr>\n      <th>4</th>\n      <td>26</td>\n      <td>NaN</td>\n      <td>5dd9bd7bf85b50953fdf003c</td>\n      <td>base</td>\n      <td>interview</td>\n      <td>2020-03-26 15:11:29</td>\n      <td>5dd9bd7bf85b50953fdf003c</td>\n      <td>0</td>\n      <td>8</td>\n      <td>0</td>\n      <td>...</td>\n      <td>2</td>\n      <td>3</td>\n      <td>1</td>\n      <td>0</td>\n      <td>13</td>\n      <td>13</td>\n      <td>0</td>\n      <td>0</td>\n      <td>0.92</td>\n      <td>7</td>\n    </tr>\n  </tbody>\n</table>\n<p>5 rows × 2041 columns</p>\n</div>"
     },
     "metadata": {},
     "execution_count": 3
    }
   ],
   "source": [
    "df.head()"
   ]
  },
  {
   "cell_type": "code",
   "execution_count": 4,
   "metadata": {},
   "outputs": [],
   "source": [
    "def test_labels(row):\n",
    "    right_answers = 0\n",
    "    if row['Q001'] == 2:\n",
    "        right_answers += 1\n",
    "    if row['Q002'] == 2:\n",
    "        right_answers += 1\n",
    "    elif row['Q002'] == 3:\n",
    "        right_answers += .5\n",
    "    if row['Q003'] == 1:\n",
    "        right_answers += 1\n",
    "    if row['Q004'] == 3:\n",
    "        right_answers += 1\n",
    "    if row['Q005'] == 3:\n",
    "        right_answers += 1\n",
    "    return right_answers\n",
    "\n",
    "df['validation'] = df.apply(lambda row: test_labels(row), axis=1)"
   ]
  },
  {
   "cell_type": "code",
   "execution_count": 5,
   "metadata": {},
   "outputs": [],
   "source": [
    "df = df[df.validation >= 3.0]\n",
    "data = df.loc[:, 'AA01':'AZ80']"
   ]
  },
  {
   "cell_type": "code",
   "execution_count": 6,
   "metadata": {},
   "outputs": [],
   "source": [
    "data = data.apply(lambda x: x.astype('category'))\n",
    ""
   ]
  },
  {
   "cell_type": "code",
   "execution_count": 7,
   "metadata": {},
   "outputs": [],
   "source": [
    "counts = data.apply(lambda column: column.value_counts()).fillna(0.0)"
   ]
  },
  {
   "cell_type": "code",
   "execution_count": 8,
   "metadata": {
    "tags": [
     "outputPrepend"
    ]
   },
   "outputs": [],
   "source": [
    " list_of_counts = counts.values.T.tolist()\n",
    " list_of_labels = list(counts.columns.values)"
   ]
  },
  {
   "cell_type": "code",
   "execution_count": 9,
   "metadata": {},
   "outputs": [],
   "source": [
    "def label_sort(values: \"\"\"list w three values\"\"\"):\n",
    "    if sum(values) < 3.0:\n",
    "        return \"NEEDS_ANNOTATION\"\n",
    "    elif (x := max(values)) < 3.0:\n",
    "        return \"unclear\"\n",
    "    elif values.count(x) > 1:\n",
    "        indices = [i for i,v in enumerate(values) if v == x]\n",
    "        if len(indices) == 3 or (0 in indices and 1 in indices):\n",
    "            return \"unclear\"\n",
    "        elif values[0] == 0 or (values[0]-values[1]) >= 2:\n",
    "            return \"denier\"\n",
    "        elif values[1] == 0 or (values[1]-values[0]) >= 2:\n",
    "            return \"believer\"\n",
    "        else:\n",
    "            return \"unclear\"\n",
    "    else:\n",
    "        maximum = values.index(x)\n",
    "        if maximum == 0:\n",
    "            if (x-values[1]) >= 2:\n",
    "                return \"believer\"\n",
    "            else:\n",
    "                return \"unclear\"\n",
    "        elif maximum == 1:\n",
    "            if (x-values[0]) >= 2:\n",
    "                return \"denier\"\n",
    "            else:\n",
    "                return \"unclear\"\n",
    "        elif maximum == 2:\n",
    "            if (x-values[0]) >= 2 and (x-values[1]) >= 2:\n",
    "                return \"unclear\"\n",
    "            elif values[1]==0 or (values[0]-values[1]) > 3:\n",
    "                return \"believer\"\n",
    "            elif values[0]==0 or (values[1]-values[0]) > 3:\n",
    "                return \"denier\"\n",
    "            else:\n",
    "                return \"unclear\""
   ]
  },
  {
   "cell_type": "code",
   "execution_count": 11,
   "metadata": {},
   "outputs": [],
   "source": [
    "labels = [label_sort(x) for x in list_of_counts]"
   ]
  },
  {
   "cell_type": "code",
   "execution_count": 12,
   "metadata": {},
   "outputs": [],
   "source": [
    "labels = [\"{}\\n\".format(x) for x in labels]\n",
    "with open(\"annotations.txt\",\"w+\",encoding=\"utf-8\") as f:\n",
    "    f.writelines(labels)"
   ]
  }
 ]
}